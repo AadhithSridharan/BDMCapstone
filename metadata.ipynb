{
 "cells": [
  {
   "cell_type": "code",
   "execution_count": 1,
   "metadata": {},
   "outputs": [],
   "source": [
    "import numpy as np\n",
    "import pandas as pd"
   ]
  },
  {
   "cell_type": "code",
   "execution_count": null,
   "metadata": {},
   "outputs": [],
   "source": [
    "df = pd.read_csv('soapshipment.csv')\n",
    "df"
   ]
  },
  {
   "cell_type": "code",
   "execution_count": 3,
   "metadata": {},
   "outputs": [
    {
     "data": {
      "text/plain": [
       "(46044, 14)"
      ]
     },
     "execution_count": 3,
     "metadata": {},
     "output_type": "execute_result"
    }
   ],
   "source": [
    "df.shape"
   ]
  },
  {
   "cell_type": "code",
   "execution_count": 4,
   "metadata": {},
   "outputs": [
    {
     "name": "stdout",
     "output_type": "stream",
     "text": [
      "Depot Transaction\n",
      "Warehouse\n",
      "Ship to Branch\n",
      "Billing doc. date\n",
      "Customer\n",
      "RS\n",
      "Material\n",
      "Product\n",
      "MRP per unit\n",
      "Gross Weight in Tons\n",
      "Net Wgt in Tons\n",
      "Billing Quantity - EA\n",
      "Qty In Cases\n",
      "Total Invoice value\n"
     ]
    }
   ],
   "source": [
    "for i in df.columns:\n",
    "    print(i)"
   ]
  },
  {
   "cell_type": "code",
   "execution_count": 5,
   "metadata": {},
   "outputs": [
    {
     "data": {
      "text/plain": [
       "Depot Transaction         object\n",
       "Warehouse                 object\n",
       "Ship to Branch            object\n",
       "Billing doc. date         object\n",
       "Customer                  object\n",
       "RS                        object\n",
       "Material                  object\n",
       "Product                   object\n",
       "MRP per unit             float64\n",
       "Gross Weight in Tons     float64\n",
       "Net Wgt in Tons          float64\n",
       "Billing Quantity - EA     object\n",
       "Qty In Cases               int64\n",
       "Total Invoice value       object\n",
       "dtype: object"
      ]
     },
     "execution_count": 5,
     "metadata": {},
     "output_type": "execute_result"
    }
   ],
   "source": [
    "df.dtypes"
   ]
  },
  {
   "cell_type": "code",
   "execution_count": 6,
   "metadata": {},
   "outputs": [
    {
     "data": {
      "text/plain": [
       "Depot Transaction        0\n",
       "Warehouse                0\n",
       "Ship to Branch           0\n",
       "Billing doc. date        0\n",
       "Customer                 0\n",
       "RS                       0\n",
       "Material                 0\n",
       "Product                  0\n",
       "MRP per unit             0\n",
       "Gross Weight in Tons     0\n",
       "Net Wgt in Tons          0\n",
       "Billing Quantity - EA    0\n",
       "Qty In Cases             0\n",
       "Total Invoice value      0\n",
       "dtype: int64"
      ]
     },
     "execution_count": 6,
     "metadata": {},
     "output_type": "execute_result"
    }
   ],
   "source": [
    "df.isnull().sum()"
   ]
  },
  {
   "cell_type": "code",
   "execution_count": 8,
   "metadata": {},
   "outputs": [
    {
     "data": {
      "text/plain": [
       "Depot Transaction           1\n",
       "Warehouse                   1\n",
       "Ship to Branch              1\n",
       "Billing doc. date         369\n",
       "Customer                  257\n",
       "RS                        257\n",
       "Material                   10\n",
       "Product                     9\n",
       "MRP per unit              176\n",
       "Gross Weight in Tons      331\n",
       "Net Wgt in Tons           292\n",
       "Billing Quantity - EA     227\n",
       "Qty In Cases              131\n",
       "Total Invoice value      2117\n",
       "dtype: int64"
      ]
     },
     "execution_count": 8,
     "metadata": {},
     "output_type": "execute_result"
    }
   ],
   "source": [
    "df.nunique()"
   ]
  },
  {
   "cell_type": "code",
   "execution_count": 11,
   "metadata": {},
   "outputs": [
    {
     "data": {
      "text/html": [
       "<div>\n",
       "<style scoped>\n",
       "    .dataframe tbody tr th:only-of-type {\n",
       "        vertical-align: middle;\n",
       "    }\n",
       "\n",
       "    .dataframe tbody tr th {\n",
       "        vertical-align: top;\n",
       "    }\n",
       "\n",
       "    .dataframe thead th {\n",
       "        text-align: right;\n",
       "    }\n",
       "</style>\n",
       "<table border=\"1\" class=\"dataframe\">\n",
       "  <thead>\n",
       "    <tr style=\"text-align: right;\">\n",
       "      <th></th>\n",
       "      <th>MRP per unit</th>\n",
       "      <th>Gross Weight in Tons</th>\n",
       "      <th>Net Wgt in Tons</th>\n",
       "      <th>Qty In Cases</th>\n",
       "    </tr>\n",
       "  </thead>\n",
       "  <tbody>\n",
       "    <tr>\n",
       "      <th>count</th>\n",
       "      <td>46044.000000</td>\n",
       "      <td>46044.000000</td>\n",
       "      <td>46044.000000</td>\n",
       "      <td>46044.000000</td>\n",
       "    </tr>\n",
       "    <tr>\n",
       "      <th>mean</th>\n",
       "      <td>33.465002</td>\n",
       "      <td>0.083060</td>\n",
       "      <td>0.078231</td>\n",
       "      <td>5.695596</td>\n",
       "    </tr>\n",
       "    <tr>\n",
       "      <th>std</th>\n",
       "      <td>21.413710</td>\n",
       "      <td>0.126794</td>\n",
       "      <td>0.120239</td>\n",
       "      <td>8.650918</td>\n",
       "    </tr>\n",
       "    <tr>\n",
       "      <th>min</th>\n",
       "      <td>-58.000000</td>\n",
       "      <td>-0.090000</td>\n",
       "      <td>0.000000</td>\n",
       "      <td>0.000000</td>\n",
       "    </tr>\n",
       "    <tr>\n",
       "      <th>25%</th>\n",
       "      <td>10.000000</td>\n",
       "      <td>0.017000</td>\n",
       "      <td>0.016000</td>\n",
       "      <td>1.000000</td>\n",
       "    </tr>\n",
       "    <tr>\n",
       "      <th>50%</th>\n",
       "      <td>34.000000</td>\n",
       "      <td>0.050000</td>\n",
       "      <td>0.047000</td>\n",
       "      <td>3.000000</td>\n",
       "    </tr>\n",
       "    <tr>\n",
       "      <th>75%</th>\n",
       "      <td>58.000000</td>\n",
       "      <td>0.097000</td>\n",
       "      <td>0.087000</td>\n",
       "      <td>7.000000</td>\n",
       "    </tr>\n",
       "    <tr>\n",
       "      <th>max</th>\n",
       "      <td>462.000000</td>\n",
       "      <td>4.654000</td>\n",
       "      <td>4.450000</td>\n",
       "      <td>309.000000</td>\n",
       "    </tr>\n",
       "  </tbody>\n",
       "</table>\n",
       "</div>"
      ],
      "text/plain": [
       "       MRP per unit  Gross Weight in Tons  Net Wgt in Tons  Qty In Cases\n",
       "count  46044.000000          46044.000000     46044.000000  46044.000000\n",
       "mean      33.465002              0.083060         0.078231      5.695596\n",
       "std       21.413710              0.126794         0.120239      8.650918\n",
       "min      -58.000000             -0.090000         0.000000      0.000000\n",
       "25%       10.000000              0.017000         0.016000      1.000000\n",
       "50%       34.000000              0.050000         0.047000      3.000000\n",
       "75%       58.000000              0.097000         0.087000      7.000000\n",
       "max      462.000000              4.654000         4.450000    309.000000"
      ]
     },
     "execution_count": 11,
     "metadata": {},
     "output_type": "execute_result"
    }
   ],
   "source": [
    "df.describe()"
   ]
  },
  {
   "cell_type": "code",
   "execution_count": null,
   "metadata": {},
   "outputs": [],
   "source": []
  }
 ],
 "metadata": {
  "kernelspec": {
   "display_name": "Python 3",
   "language": "python",
   "name": "python3"
  },
  "language_info": {
   "codemirror_mode": {
    "name": "ipython",
    "version": 3
   },
   "file_extension": ".py",
   "mimetype": "text/x-python",
   "name": "python",
   "nbconvert_exporter": "python",
   "pygments_lexer": "ipython3",
   "version": "3.11.3"
  }
 },
 "nbformat": 4,
 "nbformat_minor": 2
}
